{
 "cells": [
  {
   "cell_type": "code",
   "execution_count": 24,
   "metadata": {},
   "outputs": [],
   "source": [
    "#Imports \n",
    "from matplotlib import pyplot as plt\n",
    "from tqdm import tqdm \n",
    "import pandas as pd "
   ]
  },
  {
   "cell_type": "code",
   "execution_count": 25,
   "metadata": {},
   "outputs": [
    {
     "name": "stderr",
     "output_type": "stream",
     "text": [
      "/var/folders/qr/7k537p855t93rbkdcl42hxp80000gn/T/ipykernel_40859/3522385388.py:31: SettingWithCopyWarning: \n",
      "A value is trying to be set on a copy of a slice from a DataFrame.\n",
      "Try using .loc[row_indexer,col_indexer] = value instead\n",
      "\n",
      "See the caveats in the documentation: https://pandas.pydata.org/pandas-docs/stable/user_guide/indexing.html#returning-a-view-versus-a-copy\n",
      "  one_year['Fly_date']=one_year['Fly_date'].replace(date_encoding)\n",
      "/var/folders/qr/7k537p855t93rbkdcl42hxp80000gn/T/ipykernel_40859/3522385388.py:32: SettingWithCopyWarning: \n",
      "A value is trying to be set on a copy of a slice from a DataFrame.\n",
      "Try using .loc[row_indexer,col_indexer] = value instead\n",
      "\n",
      "See the caveats in the documentation: https://pandas.pydata.org/pandas-docs/stable/user_guide/indexing.html#returning-a-view-versus-a-copy\n",
      "  one_year['Fly_date']= one_year['Fly_date'] + 1\n"
     ]
    }
   ],
   "source": [
    "#Read data\n",
    "flights             = pd.read_csv('Airports2.csv')\n",
    "flights['Fly_date'] = pd.to_datetime(flights['Fly_date'])\n",
    "flights['dstate']   = flights['Destination_city'].apply(lambda x: x[-2:])\n",
    "flights['ostate']   = flights['Origin_city'].apply(lambda x: x[-2:])\n",
    "flights['month']    = flights['Fly_date'].dt.month\n",
    "flights['year']     = flights['Fly_date'].dt.year\n",
    "\n",
    "# Get top airports\n",
    "all_airports        = pd.concat([flights['Origin_airport'], flights['Destination_airport']])\n",
    "top_airports        = list(all_airports.value_counts().head(30).index)\n",
    "top_airports        = list(flights.loc[flights['dstate'].apply(lambda x: x in ['SC', 'VA']), 'Destination_airport'].unique())\n",
    "# airport_encoding    = {airport:i for i, airport in enumerate(top_airports)}\n",
    "\n",
    "# Only flights from top airports\n",
    "flights             = flights[flights.apply(lambda x: (x['Origin_airport'] in top_airports) and (x['Destination_airport'] in top_airports), axis=1)]\n",
    "\n",
    "# Aggregate (sum) passengers, flights and distance\n",
    "tmp                 = flights.groupby(['Origin_airport', 'Destination_airport', 'Fly_date'])\n",
    "sums                = tmp.sum().reset_index()\n",
    "sums                = sums[sums['Distance'] > 0]\n",
    "\n",
    "# Filter one year of data\n",
    "new_flights         = sums[['Origin_airport', 'Destination_airport', 'Fly_date', 'Passengers']]\n",
    "new_flights         = new_flights.reset_index(drop=True)\n",
    "\n",
    "# one_year = new_flights[new_flights['Fly_date'].apply(lambda x: x.year in range(1990, 2000))]\n",
    "one_year            = new_flights[new_flights['Fly_date'].apply(lambda x: x.year == 1990)]\n",
    "T                   = sorted(one_year['Fly_date'].unique())\n",
    "date_encoding       = {v:i for i, v in enumerate(T)}\n",
    "one_year['Fly_date']=one_year['Fly_date'].replace(date_encoding)\n",
    "one_year['Fly_date']= one_year['Fly_date'] + 1\n",
    "one_year            = one_year.reset_index(drop=True)\n",
    "one_year            = one_year[one_year['Passengers'] > 0]"
   ]
  },
  {
   "attachments": {},
   "cell_type": "markdown",
   "metadata": {},
   "source": [
    "# MCMC"
   ]
  },
  {
   "cell_type": "code",
   "execution_count": 26,
   "metadata": {},
   "outputs": [
    {
     "name": "stderr",
     "output_type": "stream",
     "text": [
      "100%|██████████| 1000/1000 [00:04<00:00, 229.35it/s]\n"
     ]
    }
   ],
   "source": [
    "import random\n",
    "\n",
    "def mcmc3(n_walks):\n",
    "\n",
    "    walks = []\n",
    "    meta = []\n",
    "    for _ in tqdm(range(n_walks)):\n",
    "\n",
    "        time_weights    = one_year.groupby('Fly_date').sum()['Passengers']/(one_year['Passengers'].sum())\n",
    "        time_weights    = time_weights[:-2]\n",
    "        time_steps      = time_weights.index.values\n",
    "        rand_start_time = random.choices(time_steps, weights=time_weights.values)[0]\n",
    "        lengths         = range(1, 14-rand_start_time)\n",
    "        # rand_length     = random.choices(lengths, weights=lengths[::-1])[0]\n",
    "        rand_length     = random.choice(lengths)\n",
    "        # rand_length     = 2\n",
    "        \n",
    "        meta.append((rand_start_time, rand_length))\n",
    "        walk = []\n",
    "        for i in range(rand_length):\n",
    "            tmp = one_year[(one_year['Fly_date'] == rand_start_time+i)]\n",
    "            if i > 0:\n",
    "                tmp = tmp[tmp['Origin_airport'] == destination]\n",
    "                if len(tmp) == 0:\n",
    "                    continue\n",
    "            flight = tmp.sample(n=1, weights='Passengers')\n",
    "            destination = flight['Destination_airport'].values[0]\n",
    "            origin = flight['Origin_airport'].values[0]\n",
    "            walk.append(\"%s_%s\" % (origin, rand_start_time+i))\n",
    "        walk.append(\"%s_%s\" % (destination, rand_start_time+i+1))\n",
    "        # print(walk)\n",
    "        # print(rand_start_time, rand_length)\n",
    "\n",
    "        walks.append(walk)\n",
    "\n",
    "    walks_df = pd.DataFrame(walks)\n",
    "    meta_df = pd.DataFrame(meta)\n",
    "\n",
    "    walks_df.to_csv('walks.csv')\n",
    "\n",
    "mcmc3(1000)"
   ]
  },
  {
   "attachments": {},
   "cell_type": "markdown",
   "metadata": {},
   "source": [
    "## Node Positioning"
   ]
  },
  {
   "attachments": {},
   "cell_type": "markdown",
   "metadata": {},
   "source": [
    "Create a static adjacency matrix for the graph.\n"
   ]
  },
  {
   "cell_type": "code",
   "execution_count": 27,
   "metadata": {},
   "outputs": [
    {
     "name": "stderr",
     "output_type": "stream",
     "text": [
      "100%|██████████| 180/180 [00:00<00:00, 5435.93it/s]\n"
     ]
    }
   ],
   "source": [
    "matrix = pd.DataFrame(0, index=top_airports, columns=top_airports)\n",
    "for i in tqdm(range(len(one_year))):\n",
    "    row = one_year.iloc[i]\n",
    "    matrix.loc[row['Origin_airport'], row['Destination_airport']] += row['Passengers']"
   ]
  },
  {
   "cell_type": "code",
   "execution_count": 28,
   "metadata": {},
   "outputs": [],
   "source": [
    "#Clustering (static adjacency matrix)\n",
    "\n",
    "from sklearn.cluster import AgglomerativeClustering, KMeans\n",
    "# sc = AgglomerativeClustering(n_clusters=3)\n",
    "sc = KMeans(n_clusters=2, random_state=42)\n",
    "clusters = sc.fit_predict(matrix)"
   ]
  },
  {
   "cell_type": "code",
   "execution_count": 29,
   "metadata": {},
   "outputs": [],
   "source": [
    "clusters_series = pd.Series(data=clusters, index=matrix.index).sort_values()\n",
    "clusters_series.name = 'cluster'"
   ]
  },
  {
   "cell_type": "code",
   "execution_count": 30,
   "metadata": {},
   "outputs": [
    {
     "data": {
      "image/png": "[encoded data removed]",
      "text/plain": [
       "<Figure size 432x288 with 2 Axes>"
      ]
     },
     "metadata": {
      "needs_background": "light"
     },
     "output_type": "display_data"
    }
   ],
   "source": [
    "# Dimensionality reduction to 2-dimensional space \n",
    "# for visualization of clusters\n",
    "\n",
    "from sklearn.decomposition import PCA\n",
    "pca = PCA(n_components=2, random_state=42)\n",
    "reduced = pca.fit_transform(matrix)\n",
    "reduced = pd.DataFrame(reduced)\n",
    "plt.scatter(reduced[0], reduced[1], c=clusters);\n",
    "plt.colorbar();"
   ]
  },
  {
   "cell_type": "code",
   "execution_count": 31,
   "metadata": {},
   "outputs": [],
   "source": [
    "# # Creating a mapping between airports and clusters\n",
    "\n",
    "clusters_dict = dict(zip(matrix.index,clusters))\n",
    "clusters_series = pd.Series(clusters_dict).sort_values()\n",
    "clusters_series.name = 'cluster'\n",
    "\n",
    "la_airs = flights.loc[flights['dstate']=='SC', 'Destination_airport'].unique()\n",
    "co_airs = flights.loc[flights['dstate']=='VA', 'Destination_airport'].unique()\n",
    "\n",
    "clusters = {air: 0 for air in la_airs}\n",
    "clusters.update({air: 1 for air in co_airs})\n",
    "clusters_series = pd.Series(clusters)\n",
    "clusters_series.name = 'cluster'"
   ]
  },
  {
   "cell_type": "code",
   "execution_count": 32,
   "metadata": {},
   "outputs": [],
   "source": [
    "# Sorting top airports by their cluster number \n",
    "\n",
    "# top_airports.sort(key=lambda x: clusters_series.loc[x])"
   ]
  },
  {
   "cell_type": "code",
   "execution_count": 33,
   "metadata": {},
   "outputs": [
    {
     "data": {
      "image/png": "[encoded data removed]",
      "text/plain": [
       "<Figure size 720x360 with 4 Axes>"
      ]
     },
     "metadata": {
      "needs_background": "light"
     },
     "output_type": "display_data"
    }
   ],
   "source": [
    "# Visualizing the adjacency matrix before and after sorting by clusters\n",
    "\n",
    "fig, axs = plt.subplots(1, 2, figsize=(10,5))\n",
    "\n",
    "img = axs[0].imshow(matrix, cmap='Reds');\n",
    "fig.colorbar(img, ax=axs[0]);\n",
    "\n",
    "matrix_2 = matrix.loc[clusters_series.index, clusters_series.index]\n",
    "img = axs[1].imshow(matrix_2, cmap='Reds');\n",
    "# axs[1].set_yticks(range(len(matrix_2)), clusters_series.values);\n",
    "fig.colorbar(img, ax=axs[1]);\n"
   ]
  },
  {
   "cell_type": "code",
   "execution_count": 34,
   "metadata": {},
   "outputs": [
    {
     "data": {
      "image/png": "[encoded data removed]",
      "text/plain": [
       "<Figure size 720x360 with 4 Axes>"
      ]
     },
     "metadata": {
      "needs_background": "light"
     },
     "output_type": "display_data"
    }
   ],
   "source": [
    "# Visualizing the carpet plot before and after sorting by clusters\n",
    "\n",
    "carpet = one_year.pivot_table(index=['Origin_airport', 'Destination_airport'], \\\n",
    "    columns='Fly_date', values='Passengers', aggfunc='sum').fillna(0).reset_index()\n",
    "\n",
    "carpet2 = pd.merge(clusters_series, carpet, right_on='Origin_airport', left_index=True)\n",
    "carpet2 = carpet2.sort_values(['cluster', 'Origin_airport'])\n",
    "carpet2.reset_index(drop=True, inplace=True)\n",
    "\n",
    "fig, axs = plt.subplots(1, 2, figsize=(10,5))\n",
    "img = axs[0].imshow(carpet[carpet.columns[2:]], cmap='Reds', aspect='auto');\n",
    "fig.colorbar(img, ax=axs[0]);\n",
    "img = axs[1].imshow(carpet2[carpet.columns[3:]], cmap='Reds', aspect='auto');\n",
    "# axs[1].set_yticks(carpet2.index[::10], carpet2['cluster'][::10].values);\n",
    "# axs[1].set_yticks(carpet2.index, carpet2['cluster'].values);\n",
    "fig.colorbar(img, ax=axs[1]);"
   ]
  },
  {
   "attachments": {},
   "cell_type": "markdown",
   "metadata": {},
   "source": [
    "## Flights for airport grid"
   ]
  },
  {
   "cell_type": "code",
   "execution_count": 35,
   "metadata": {},
   "outputs": [],
   "source": [
    "merged  = pd.merge(one_year, clusters_series, left_on='Origin_airport', right_index=True)\n",
    "merged2 = pd.merge(merged, clusters_series, left_on='Destination_airport', right_index=True, suffixes=('_origin', '_destination'))"
   ]
  },
  {
   "cell_type": "code",
   "execution_count": 36,
   "metadata": {},
   "outputs": [
    {
     "data": {
      "text/html": [
       "<div>\n",
       "<style scoped>\n",
       "    .dataframe tbody tr th:only-of-type {\n",
       "        vertical-align: middle;\n",
       "    }\n",
       "\n",
       "    .dataframe tbody tr th {\n",
       "        vertical-align: top;\n",
       "    }\n",
       "\n",
       "    .dataframe thead th {\n",
       "        text-align: right;\n",
       "    }\n",
       "</style>\n",
       "<table border=\"1\" class=\"dataframe\">\n",
       "  <thead>\n",
       "    <tr style=\"text-align: right;\">\n",
       "      <th></th>\n",
       "      <th>cluster_origin</th>\n",
       "      <th>cluster_destination</th>\n",
       "      <th>size</th>\n",
       "      <th>sum</th>\n",
       "    </tr>\n",
       "  </thead>\n",
       "  <tbody>\n",
       "    <tr>\n",
       "      <th>3</th>\n",
       "      <td>1</td>\n",
       "      <td>1</td>\n",
       "      <td>534</td>\n",
       "      <td>82177</td>\n",
       "    </tr>\n",
       "    <tr>\n",
       "      <th>0</th>\n",
       "      <td>0</td>\n",
       "      <td>0</td>\n",
       "      <td>414</td>\n",
       "      <td>93559</td>\n",
       "    </tr>\n",
       "    <tr>\n",
       "      <th>2</th>\n",
       "      <td>1</td>\n",
       "      <td>0</td>\n",
       "      <td>84</td>\n",
       "      <td>3974</td>\n",
       "    </tr>\n",
       "    <tr>\n",
       "      <th>1</th>\n",
       "      <td>0</td>\n",
       "      <td>1</td>\n",
       "      <td>48</td>\n",
       "      <td>3643</td>\n",
       "    </tr>\n",
       "  </tbody>\n",
       "</table>\n",
       "</div>"
      ],
      "text/plain": [
       "   cluster_origin  cluster_destination  size    sum\n",
       "3               1                    1   534  82177\n",
       "0               0                    0   414  93559\n",
       "2               1                    0    84   3974\n",
       "1               0                    1    48   3643"
      ]
     },
     "execution_count": 36,
     "metadata": {},
     "output_type": "execute_result"
    }
   ],
   "source": [
    "cluster_stats = merged2.groupby(['cluster_origin', 'cluster_destination']).apply(\\\n",
    "                    lambda x: pd.Series({'size': x.size, 'sum': x['Passengers'].sum()})).reset_index()\n",
    "\n",
    "cluster_stats.sort_values(['size'], ascending=False)"
   ]
  },
  {
   "cell_type": "code",
   "execution_count": 37,
   "metadata": {},
   "outputs": [
    {
     "data": {
      "text/html": [
       "<div>\n",
       "<style scoped>\n",
       "    .dataframe tbody tr th:only-of-type {\n",
       "        vertical-align: middle;\n",
       "    }\n",
       "\n",
       "    .dataframe tbody tr th {\n",
       "        vertical-align: top;\n",
       "    }\n",
       "\n",
       "    .dataframe thead th {\n",
       "        text-align: right;\n",
       "    }\n",
       "</style>\n",
       "<table border=\"1\" class=\"dataframe\">\n",
       "  <thead>\n",
       "    <tr style=\"text-align: right;\">\n",
       "      <th></th>\n",
       "      <th>Origin_airport</th>\n",
       "      <th>Destination_airport</th>\n",
       "      <th>Fly_date</th>\n",
       "      <th>Passengers</th>\n",
       "      <th>cluster_origin</th>\n",
       "      <th>cluster_destination</th>\n",
       "    </tr>\n",
       "  </thead>\n",
       "  <tbody>\n",
       "    <tr>\n",
       "      <th>0</th>\n",
       "      <td>CAE</td>\n",
       "      <td>CHS</td>\n",
       "      <td>1</td>\n",
       "      <td>55</td>\n",
       "      <td>0</td>\n",
       "      <td>0</td>\n",
       "    </tr>\n",
       "    <tr>\n",
       "      <th>1</th>\n",
       "      <td>CAE</td>\n",
       "      <td>CHS</td>\n",
       "      <td>2</td>\n",
       "      <td>929</td>\n",
       "      <td>0</td>\n",
       "      <td>0</td>\n",
       "    </tr>\n",
       "    <tr>\n",
       "      <th>2</th>\n",
       "      <td>CAE</td>\n",
       "      <td>CHS</td>\n",
       "      <td>3</td>\n",
       "      <td>1379</td>\n",
       "      <td>0</td>\n",
       "      <td>0</td>\n",
       "    </tr>\n",
       "    <tr>\n",
       "      <th>3</th>\n",
       "      <td>CAE</td>\n",
       "      <td>CHS</td>\n",
       "      <td>4</td>\n",
       "      <td>4120</td>\n",
       "      <td>0</td>\n",
       "      <td>0</td>\n",
       "    </tr>\n",
       "    <tr>\n",
       "      <th>4</th>\n",
       "      <td>CAE</td>\n",
       "      <td>CHS</td>\n",
       "      <td>5</td>\n",
       "      <td>3033</td>\n",
       "      <td>0</td>\n",
       "      <td>0</td>\n",
       "    </tr>\n",
       "  </tbody>\n",
       "</table>\n",
       "</div>"
      ],
      "text/plain": [
       "  Origin_airport Destination_airport  Fly_date  Passengers  cluster_origin  \\\n",
       "0            CAE                 CHS         1          55               0   \n",
       "1            CAE                 CHS         2         929               0   \n",
       "2            CAE                 CHS         3        1379               0   \n",
       "3            CAE                 CHS         4        4120               0   \n",
       "4            CAE                 CHS         5        3033               0   \n",
       "\n",
       "   cluster_destination  \n",
       "0                    0  \n",
       "1                    0  \n",
       "2                    0  \n",
       "3                    0  \n",
       "4                    0  "
      ]
     },
     "execution_count": 37,
     "metadata": {},
     "output_type": "execute_result"
    }
   ],
   "source": [
    "merged2.head()"
   ]
  },
  {
   "cell_type": "code",
   "execution_count": 38,
   "metadata": {},
   "outputs": [
    {
     "data": {
      "text/html": [
       "<div>\n",
       "<style scoped>\n",
       "    .dataframe tbody tr th:only-of-type {\n",
       "        vertical-align: middle;\n",
       "    }\n",
       "\n",
       "    .dataframe tbody tr th {\n",
       "        vertical-align: top;\n",
       "    }\n",
       "\n",
       "    .dataframe thead th {\n",
       "        text-align: right;\n",
       "    }\n",
       "</style>\n",
       "<table border=\"1\" class=\"dataframe\">\n",
       "  <thead>\n",
       "    <tr style=\"text-align: right;\">\n",
       "      <th></th>\n",
       "      <th>Origin_airport</th>\n",
       "      <th>Destination_airport</th>\n",
       "      <th>Fly_date</th>\n",
       "      <th>Passengers</th>\n",
       "      <th>cluster_origin</th>\n",
       "      <th>cluster_destination</th>\n",
       "    </tr>\n",
       "  </thead>\n",
       "  <tbody>\n",
       "    <tr>\n",
       "      <th>58</th>\n",
       "      <td>CHS</td>\n",
       "      <td>CAE</td>\n",
       "      <td>10</td>\n",
       "      <td>4535</td>\n",
       "      <td>0</td>\n",
       "      <td>0</td>\n",
       "    </tr>\n",
       "    <tr>\n",
       "      <th>3</th>\n",
       "      <td>CAE</td>\n",
       "      <td>CHS</td>\n",
       "      <td>4</td>\n",
       "      <td>4120</td>\n",
       "      <td>0</td>\n",
       "      <td>0</td>\n",
       "    </tr>\n",
       "    <tr>\n",
       "      <th>9</th>\n",
       "      <td>CAE</td>\n",
       "      <td>CHS</td>\n",
       "      <td>10</td>\n",
       "      <td>4081</td>\n",
       "      <td>0</td>\n",
       "      <td>0</td>\n",
       "    </tr>\n",
       "    <tr>\n",
       "      <th>59</th>\n",
       "      <td>CHS</td>\n",
       "      <td>CAE</td>\n",
       "      <td>11</td>\n",
       "      <td>3981</td>\n",
       "      <td>0</td>\n",
       "      <td>0</td>\n",
       "    </tr>\n",
       "    <tr>\n",
       "      <th>57</th>\n",
       "      <td>CHS</td>\n",
       "      <td>CAE</td>\n",
       "      <td>9</td>\n",
       "      <td>3924</td>\n",
       "      <td>0</td>\n",
       "      <td>0</td>\n",
       "    </tr>\n",
       "    <tr>\n",
       "      <th>177</th>\n",
       "      <td>ROA</td>\n",
       "      <td>RIC</td>\n",
       "      <td>10</td>\n",
       "      <td>3891</td>\n",
       "      <td>1</td>\n",
       "      <td>1</td>\n",
       "    </tr>\n",
       "    <tr>\n",
       "      <th>60</th>\n",
       "      <td>CHS</td>\n",
       "      <td>CAE</td>\n",
       "      <td>12</td>\n",
       "      <td>3799</td>\n",
       "      <td>0</td>\n",
       "      <td>0</td>\n",
       "    </tr>\n",
       "    <tr>\n",
       "      <th>11</th>\n",
       "      <td>CAE</td>\n",
       "      <td>CHS</td>\n",
       "      <td>12</td>\n",
       "      <td>3757</td>\n",
       "      <td>0</td>\n",
       "      <td>0</td>\n",
       "    </tr>\n",
       "    <tr>\n",
       "      <th>10</th>\n",
       "      <td>CAE</td>\n",
       "      <td>CHS</td>\n",
       "      <td>11</td>\n",
       "      <td>3657</td>\n",
       "      <td>0</td>\n",
       "      <td>0</td>\n",
       "    </tr>\n",
       "    <tr>\n",
       "      <th>52</th>\n",
       "      <td>CHS</td>\n",
       "      <td>CAE</td>\n",
       "      <td>4</td>\n",
       "      <td>3633</td>\n",
       "      <td>0</td>\n",
       "      <td>0</td>\n",
       "    </tr>\n",
       "  </tbody>\n",
       "</table>\n",
       "</div>"
      ],
      "text/plain": [
       "    Origin_airport Destination_airport  Fly_date  Passengers  cluster_origin  \\\n",
       "58             CHS                 CAE        10        4535               0   \n",
       "3              CAE                 CHS         4        4120               0   \n",
       "9              CAE                 CHS        10        4081               0   \n",
       "59             CHS                 CAE        11        3981               0   \n",
       "57             CHS                 CAE         9        3924               0   \n",
       "177            ROA                 RIC        10        3891               1   \n",
       "60             CHS                 CAE        12        3799               0   \n",
       "11             CAE                 CHS        12        3757               0   \n",
       "10             CAE                 CHS        11        3657               0   \n",
       "52             CHS                 CAE         4        3633               0   \n",
       "\n",
       "     cluster_destination  \n",
       "58                     0  \n",
       "3                      0  \n",
       "9                      0  \n",
       "59                     0  \n",
       "57                     0  \n",
       "177                    1  \n",
       "60                     0  \n",
       "11                     0  \n",
       "10                     0  \n",
       "52                     0  "
      ]
     },
     "execution_count": 38,
     "metadata": {},
     "output_type": "execute_result"
    }
   ],
   "source": [
    "merged2.sort_values(['Passengers'], ascending=False).head(10)"
   ]
  },
  {
   "cell_type": "code",
   "execution_count": 39,
   "metadata": {},
   "outputs": [],
   "source": [
    "merged2['color'] = merged2.apply(lambda x: \"red\" if x['cluster_origin'] == x['cluster_destination'] else \"blue\", axis=1)\n",
    "merged2['Origin_airport']      = merged2.apply(lambda x: \"%s_%s\" % (x['Origin_airport'],      x['Fly_date']), axis=1)\n",
    "merged2['Destination_airport'] = merged2.apply(lambda x: \"%s_%s\" % (x['Destination_airport'], x['Fly_date']+1), axis=1)"
   ]
  },
  {
   "cell_type": "code",
   "execution_count": 40,
   "metadata": {},
   "outputs": [],
   "source": [
    "\n",
    "merged2 = merged2[['Origin_airport', 'Destination_airport', 'Passengers', 'color']]\n",
    "merged2.columns = ['origin', 'destination', 'count', 'color']\n",
    "merged2.to_csv('flights.csv', index=False)"
   ]
  },
  {
   "attachments": {},
   "cell_type": "markdown",
   "metadata": {},
   "source": [
    "## Grid Positioning \n",
    "\n",
    "$ (t*c_x, i*c_y)$ where $i \\in [0, N]$  and $t \\in [0, T]$ such that $N$ is number of nodes (e.g. airports) and $T$ is time (e.g. days). \n",
    "\n",
    "$c_x$ and $c_y$ are constants that define the distance distance from origin $(0, 0)$ as well as between other nodes. "
   ]
  },
  {
   "cell_type": "code",
   "execution_count": 41,
   "metadata": {},
   "outputs": [],
   "source": [
    "locs = []\n",
    "\n",
    "# width = 960\n",
    "# height = 600\n",
    "time_steps = len(date_encoding)\n",
    "c_x = time_steps*6\n",
    "c_y = 40\n",
    "# for k in airport_encoding:\n",
    "    # i = airport_encoding[k]\n",
    "for i, k in enumerate(clusters_series.index):\n",
    "    for t in range(1, time_steps+2): #list(date_encoding.values()):\n",
    "        locs.append([\"%s_%s\" % (k,t), (t+1)*c_x, (i+1)*c_y, clusters_series[k]])\n",
    "locs_df = pd.DataFrame(locs)\n"
   ]
  },
  {
   "cell_type": "code",
   "execution_count": 42,
   "metadata": {},
   "outputs": [],
   "source": [
    "\n",
    "locs_df.columns = ['iata', 'latitude', 'longitude', 'cluster']\n",
    "\n",
    "cluster_colors = {0: \"LightSkyBlue\", 1: \"LightCoral\", 2: \"orange\", 3: \"lightblue\"}\n",
    "\n",
    "locs_df['color'] = locs_df['cluster'].apply(lambda x: cluster_colors[x])"
   ]
  },
  {
   "cell_type": "code",
   "execution_count": 43,
   "metadata": {},
   "outputs": [
    {
     "data": {
      "text/plain": [
       "cluster\n",
       "0    [SSC, AND, CAE, FLO, CHS, GGE, GSP, GDC, MYR]\n",
       "1                        [ROA, RIC, SHD, LYH, CHO]\n",
       "dtype: object"
      ]
     },
     "execution_count": 43,
     "metadata": {},
     "output_type": "execute_result"
    }
   ],
   "source": [
    "clusters_series.reset_index().groupby('cluster').apply(lambda x: list(x['index'].values))"
   ]
  },
  {
   "cell_type": "code",
   "execution_count": 44,
   "metadata": {},
   "outputs": [],
   "source": [
    "locs_df.columns = ['iata', 'longitude', 'latitude', 'cluster', 'color']"
   ]
  },
  {
   "cell_type": "code",
   "execution_count": 45,
   "metadata": {},
   "outputs": [],
   "source": [
    "\n",
    "\n",
    "# locs_df['latitude']  = locs_df['latitude']\n",
    "# locs_df['latitude']  = locs_df['latitude']\n",
    "locs_df.to_csv('grid_locs.csv', index=False)"
   ]
  },
  {
   "cell_type": "code",
   "execution_count": 46,
   "metadata": {},
   "outputs": [],
   "source": [
    "# pd.DataFrame(walks)"
   ]
  },
  {
   "cell_type": "code",
   "execution_count": null,
   "metadata": {},
   "outputs": [],
   "source": []
  },
  {
   "cell_type": "code",
   "execution_count": null,
   "metadata": {},
   "outputs": [],
   "source": []
  }
 ],
 "metadata": {
  "kernelspec": {
   "display_name": "base",
   "language": "python",
   "name": "python3"
  },
  "language_info": {
   "codemirror_mode": {
    "name": "ipython",
    "version": 3
   },
   "file_extension": ".py",
   "mimetype": "text/x-python",
   "name": "python",
   "nbconvert_exporter": "python",
   "pygments_lexer": "ipython3",
   "version": "3.9.7"
  },
  "orig_nbformat": 4
 },
 "nbformat": 4,
 "nbformat_minor": 2
}
